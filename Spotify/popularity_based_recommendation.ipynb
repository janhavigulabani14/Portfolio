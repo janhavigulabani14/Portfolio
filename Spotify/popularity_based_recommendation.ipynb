{
 "cells": [
  {
   "cell_type": "code",
   "execution_count": 1,
   "id": "b5542574",
   "metadata": {},
   "outputs": [],
   "source": [
    "import pandas as pd"
   ]
  },
  {
   "cell_type": "code",
   "execution_count": 3,
   "id": "2d07f5c3",
   "metadata": {},
   "outputs": [
    {
     "name": "stdout",
     "output_type": "stream",
     "text": [
      "       index  mode  count  acousticness                    artists  \\\n",
      "0          0     1    122      0.173145        \"Weird Al\" Yankovic   \n",
      "1          1     1      2      0.239000                $atori Zoom   \n",
      "2          2     1    125      0.141485                $uicideBoy$   \n",
      "3          3     1      9      0.553889  'Legally Blonde' Ensemble   \n",
      "4          4     1     16      0.105556               'Til Tuesday   \n",
      "...      ...   ...    ...           ...                        ...   \n",
      "10492  10492     1     13      0.155923                  engo Flow   \n",
      "10493  10493     1      8      0.973750              lafur Arnalds   \n",
      "10494  10494     1     40      0.420430                scar Medina   \n",
      "10495  10495     0      2      0.120000              lhan Mimarolu   \n",
      "10496  10496     1      4      0.224100                eljko Bebek   \n",
      "\n",
      "       danceability  duration_ms    energy  instrumentalness  liveness  \\\n",
      "0          0.662787  218948.1967  0.695393      4.980000e-05  0.161102   \n",
      "1          0.883000  141519.0000  0.625000      0.000000e+00  0.076500   \n",
      "2          0.749344  146386.3920  0.635552      4.567510e-02  0.202253   \n",
      "3          0.648444  304211.8889  0.441111      2.540000e-05  0.214667   \n",
      "4          0.557125  255213.5000  0.612250      2.330025e-02  0.127587   \n",
      "...             ...          ...       ...               ...       ...   \n",
      "10492      0.749154  358203.1538  0.717000      3.530000e-07  0.260692   \n",
      "10493      0.350750  215323.0000  0.128075      9.390000e-01  0.099000   \n",
      "10494      0.606500  277211.9500  0.476150      7.510000e-07  0.189870   \n",
      "10495      0.549000  562960.0000  0.527000      3.020000e-05  0.395000   \n",
      "10496      0.569000  238586.5000  0.818500      3.870000e-06  0.095500   \n",
      "\n",
      "        loudness  speechiness       tempo   valence  popularity  \n",
      "0      -9.768705     0.084536  133.031180  0.751344   34.229508  \n",
      "1      -4.098000     0.245000  126.677000  0.871000   67.000000  \n",
      "2      -6.631304     0.156108  115.022024  0.287286   61.800000  \n",
      "3     -11.459778     0.495111  114.808444  0.524778   48.666667  \n",
      "4      -9.638125     0.032150  103.080250  0.532625   34.625000  \n",
      "...          ...          ...         ...       ...         ...  \n",
      "10492  -5.635154     0.242454  113.836539  0.575462   66.076923  \n",
      "10493 -23.222750     0.036925  118.161750  0.108450   58.750000  \n",
      "10494 -10.224300     0.028560  111.161350  0.475550   37.800000  \n",
      "10495 -10.149000     0.154000  133.726000  0.722000   32.000000  \n",
      "10496  -6.640500     0.042500   95.920000  0.564000   43.500000  \n",
      "\n",
      "[10497 rows x 15 columns]\n",
      "       index  valence  year  acousticness  \\\n",
      "0          0    0.165  1921       0.96700   \n",
      "1          1    0.493  1921       0.99000   \n",
      "2          2    0.493  1921       0.01750   \n",
      "3          3    0.664  1921       0.99600   \n",
      "4          4    0.240  1921       0.99400   \n",
      "...      ...      ...   ...           ...   \n",
      "57947  57947    0.608  2020       0.08460   \n",
      "57948  57948    0.734  2020       0.20600   \n",
      "57949  57949    0.637  2020       0.10100   \n",
      "57950  57950    0.195  2020       0.00998   \n",
      "57951  57951    0.642  2020       0.13200   \n",
      "\n",
      "                                                 artists  danceability  \\\n",
      "0                                       ['Frank Parker']         0.275   \n",
      "1                                            ['Georgel']         0.315   \n",
      "2                                         ['Zay Gatsby']         0.527   \n",
      "3                 ['Hector Berlioz', 'Arturo Toscanini']         0.541   \n",
      "4                  ['John McCormack', 'Edwin Schneider']         0.400   \n",
      "...                                                  ...           ...   \n",
      "57947  ['Anuel AA', 'Daddy Yankee', 'KAROL G', 'Ozuna...         0.786   \n",
      "57948                                       ['Ashnikko']         0.717   \n",
      "57949                                        ['MAMAMOO']         0.634   \n",
      "57950                                         ['Eminem']         0.671   \n",
      "57951                              ['KEVVO', 'J Balvin']         0.856   \n",
      "\n",
      "       duration_ms  energy  explicit  instrumentalness  liveness  loudness  \\\n",
      "0           210000   0.309         0          0.000028    0.3810    -9.316   \n",
      "1           190800   0.363         0          0.000000    0.2920   -12.562   \n",
      "2           205072   0.691         1          0.384000    0.3580    -7.298   \n",
      "3           250747   0.283         0          0.898000    0.3930   -14.808   \n",
      "4           187333   0.155         0          0.000043    0.1030   -13.976   \n",
      "...            ...     ...       ...               ...       ...       ...   \n",
      "57947       301714   0.808         0          0.000289    0.0822    -3.702   \n",
      "57948       150654   0.753         0          0.000000    0.1010    -6.020   \n",
      "57949       211280   0.858         0          0.000009    0.2580    -2.226   \n",
      "57950       337147   0.623         1          0.000008    0.6430    -7.161   \n",
      "57951       189507   0.721         1          0.004710    0.1820    -4.928   \n",
      "\n",
      "       mode                             name  popularity  speechiness    tempo  \n",
      "0         1                        Danny Boy           3       0.0354  100.109  \n",
      "1         0                        La Vipère           0       0.0546  174.532  \n",
      "2         1                   Power Is Power           0       0.0326  159.935  \n",
      "3         1                    Rákóczy March           0       0.0477  108.986  \n",
      "4         1                   Mother Machree           0       0.0873  170.251  \n",
      "...     ...                              ...         ...          ...      ...  \n",
      "57947     1                            China          72       0.0881  105.029  \n",
      "57948     1      Halloweenie III: Seven Days          68       0.0605  137.936  \n",
      "57949     0                              AYA          76       0.0809   91.688  \n",
      "57950     1                         Darkness          70       0.3080   75.055  \n",
      "57951     1  Billetes Azules (with J Balvin)          74       0.1080   94.991  \n",
      "\n",
      "[57952 rows x 17 columns]\n"
     ]
    }
   ],
   "source": [
    "df_artists = pd.read_csv('artists.csv')\n",
    "df_songs = pd.read_csv('songs.csv')\n",
    "print(df_artists)\n",
    "print(df_songs)"
   ]
  },
  {
   "cell_type": "markdown",
   "id": "44ffcf60",
   "metadata": {},
   "source": [
    "Implementing popularity based for artists where the popularity is closer or similar to the one selected."
   ]
  },
  {
   "cell_type": "code",
   "execution_count": 4,
   "id": "5661efa4",
   "metadata": {},
   "outputs": [],
   "source": [
    "fav_artist = 'Akon'\n",
    "popularity_of_fav_artist = df_artists.loc[df_artists['artists'] == fav_artist]['popularity']\n",
    "fav_pop = popularity_of_fav_artist.astype(float)"
   ]
  },
  {
   "cell_type": "code",
   "execution_count": 5,
   "id": "5d4bda45",
   "metadata": {},
   "outputs": [
    {
     "name": "stdout",
     "output_type": "stream",
     "text": [
      "       index  mode  count  acousticness           artists  danceability  \\\n",
      "5190    5190     0    204      0.446690      Lana Del Rey      0.423221   \n",
      "5172    5172     1    141      0.087437         Lady Gaga      0.663270   \n",
      "3109    3109     1     16      0.120240         Fito Paez      0.650750   \n",
      "1843    1843     1     30      0.331201    Colbie Caillat      0.604667   \n",
      "2651    2651     1     27      0.218095   Earl Sweatshirt      0.522037   \n",
      "...      ...   ...    ...           ...               ...           ...   \n",
      "9829    9829     1      2      0.612000     Umberto Tozzi      0.283000   \n",
      "4524    4524     1      6      0.247467  John Butler Trio      0.675000   \n",
      "9833    9833     1      2      0.380000         Uncle Sam      0.607000   \n",
      "10487  10487     1      2      0.910000             sgeir      0.603000   \n",
      "3151    3151     1     22      0.011020           Flyleaf      0.434455   \n",
      "\n",
      "       duration_ms    energy  instrumentalness  liveness   loudness  \\\n",
      "5190   256964.0196  0.542764      2.092620e-02  0.171420  -8.448186   \n",
      "5172   235846.4468  0.746766      1.508776e-03  0.236007  -5.019688   \n",
      "3109   246195.0000  0.596250      1.338938e-03  0.284587 -11.253000   \n",
      "1843   227776.0000  0.559367      7.670000e-08  0.149760  -7.088267   \n",
      "2651   208916.5556  0.642296      2.621827e-02  0.325333  -6.623593   \n",
      "...            ...       ...               ...       ...        ...   \n",
      "9829   242160.0000  0.520000      0.000000e+00  0.110000  -5.712000   \n",
      "4524   238986.6667  0.657000      1.423365e-02  0.150667  -6.265667   \n",
      "9833   345133.0000  0.497000      0.000000e+00  0.068100  -7.017000   \n",
      "10487  225850.0000  0.194000      1.200000e-02  0.115000 -15.252000   \n",
      "3151   193152.7273  0.872909      6.890000e-07  0.254227  -4.572273   \n",
      "\n",
      "       speechiness       tempo   valence  popularity  \n",
      "5190      0.055098  115.393554  0.254493   57.892157  \n",
      "5172      0.059630  119.497922  0.537688   57.886525  \n",
      "3109      0.051287  114.143500  0.622875   57.875000  \n",
      "1843      0.032907  124.721667  0.438533   57.866667  \n",
      "2651      0.253837  107.152556  0.552333   57.851852  \n",
      "...            ...         ...       ...         ...  \n",
      "9829      0.032800  185.478000  0.702000   48.000000  \n",
      "4524      0.053567  105.520667  0.680333   48.000000  \n",
      "9833      0.037400  125.951000  0.407000   48.000000  \n",
      "10487     0.028200   99.927000  0.302000   48.000000  \n",
      "3151      0.087709  146.571909  0.342636   47.909091  \n",
      "\n",
      "[2341 rows x 15 columns]\n"
     ]
    }
   ],
   "source": [
    "upper_range = fav_pop + 5\n",
    "lower_range = fav_pop - 5\n",
    "df_selected_artists = df_artists[(df_artists['popularity'] <= upper_range.values[0]) & (df_artists['popularity'] >= lower_range.values[0])]\n",
    "df_selected_artists = df_selected_artists.sort_values(by=['popularity'], ascending=False)\n",
    "print(df_selected_artists)\n"
   ]
  },
  {
   "cell_type": "code",
   "execution_count": 6,
   "id": "ebf28098",
   "metadata": {},
   "outputs": [
    {
     "name": "stdout",
     "output_type": "stream",
     "text": [
      "Recommendation based on the artist  Akon :\n",
      "1 -> Lana Del Rey\n",
      "2 -> Lady Gaga\n",
      "3 -> Fito Paez\n",
      "4 -> Colbie Caillat\n",
      "5 -> Earl Sweatshirt\n",
      "6 -> Dr. Dog\n",
      "7 -> Trebol Clan\n",
      "8 -> Noname\n",
      "9 -> B.o.B\n",
      "10 -> Laura Pausini\n"
     ]
    }
   ],
   "source": [
    "artists = df_selected_artists['artists'].tolist()\n",
    "print(\"Recommendation based on the artist \", fav_artist,':')\n",
    "i=0\n",
    "for artist in artists:\n",
    "  print(i+1,'->',artist)\n",
    "  i=i+1\n",
    "  if i==10:\n",
    "    break"
   ]
  },
  {
   "cell_type": "markdown",
   "id": "545896ca",
   "metadata": {},
   "source": [
    "Recommendation for songs based on closeness in popularity range\n",
    "\n"
   ]
  },
  {
   "cell_type": "code",
   "execution_count": 7,
   "id": "9d35b004",
   "metadata": {},
   "outputs": [
    {
     "name": "stdout",
     "output_type": "stream",
     "text": [
      "       index  valence  year  acousticness  \\\n",
      "2706    2706    0.661  2016        0.4140   \n",
      "26009  26009    0.637  2020        0.4060   \n",
      "6549    6549    0.586  2020        0.0326   \n",
      "38979  38979    0.660  2020        0.6030   \n",
      "38975  38975    0.198  2020        0.0219   \n",
      "...      ...      ...   ...           ...   \n",
      "10672  10672    0.568  2019        0.0710   \n",
      "10664  10664    0.195  2019        0.0695   \n",
      "10660  10660    0.338  2019        0.0501   \n",
      "10656  10656    0.797  2019        0.1840   \n",
      "57951  57951    0.642  2020        0.1320   \n",
      "\n",
      "                                                 artists  danceability  \\\n",
      "2706                      ['The Chainsmokers', 'Halsey']         0.748   \n",
      "26009                             ['Nea', 'Felix Jaehn']         0.682   \n",
      "6549                       ['Bad Bunny', 'Daddy Yankee']         0.744   \n",
      "38979                         ['Camilo', 'Pablo Alborn']         0.483   \n",
      "38975                                      ['twocolors']         0.677   \n",
      "...                                                  ...           ...   \n",
      "10672                          ['JACKBOYS', 'Sheck Wes']         0.859   \n",
      "10664        ['JACKBOYS', 'Travis Scott', 'Don Toliver']         0.643   \n",
      "10660                           ['Khalid', 'Disclosure']         0.900   \n",
      "10656  ['James Arthur', 'Ty Dolla $ign', 'SHOTTY HORR...         0.691   \n",
      "57951                              ['KEVVO', 'J Balvin']         0.856   \n",
      "\n",
      "       duration_ms  energy  explicit  instrumentalness  liveness  loudness  \\\n",
      "2706        244960   0.524         0          0.000000    0.1110    -5.599   \n",
      "26009       186878   0.700         0          0.000000    0.1740    -5.591   \n",
      "6549        206420   0.868         1          0.000000    0.0822    -4.524   \n",
      "38979       188213   0.492         0          0.000000    0.3230    -6.591   \n",
      "38975       190488   0.766         0          0.000007    0.1290    -6.896   \n",
      "...            ...     ...       ...               ...       ...       ...   \n",
      "10672       244761   0.600         1          0.000000    0.3530    -4.630   \n",
      "10664       250142   0.594         1          0.000015    0.1150    -5.191   \n",
      "10660       197487   0.400         0          0.000000    0.0876    -8.443   \n",
      "10656       219933   0.733         1          0.000000    0.3410    -5.020   \n",
      "57951       189507   0.721         1          0.004710    0.1820    -4.928   \n",
      "\n",
      "       mode                               name  popularity  speechiness  \\\n",
      "2706      1                             Closer          84       0.0338   \n",
      "26009     1       Some Say - Felix Jaehn Remix          84       0.0397   \n",
      "6549      1                           La Santa          84       0.0470   \n",
      "38979     0  El Mismo Aire - con Pablo Alborán          84       0.2950   \n",
      "38975     1                           Lovefool          84       0.0568   \n",
      "...     ...                                ...         ...          ...   \n",
      "10672     0                          GANG GANG          74       0.3010   \n",
      "10664     0    WHAT TO DO? (feat. Don Toliver)          74       0.0312   \n",
      "10660     1                               Talk          74       0.1240   \n",
      "10656     1    Treehouse (feat. Shotty Horroh)          74       0.0368   \n",
      "57951     1    Billetes Azules (with J Balvin)          74       0.1080   \n",
      "\n",
      "         tempo  \n",
      "2706    95.010  \n",
      "26009  120.030  \n",
      "6549    93.037  \n",
      "38979  144.511  \n",
      "38975  123.062  \n",
      "...        ...  \n",
      "10672  123.017  \n",
      "10664  118.037  \n",
      "10660  136.001  \n",
      "10656  153.976  \n",
      "57951   94.991  \n",
      "\n",
      "[885 rows x 17 columns]\n"
     ]
    }
   ],
   "source": [
    "fav_song = 'Past Life (with Selena Gomez)'\n",
    "popularity_of_fav_song = df_songs.loc[df_songs['name'] == fav_song]['popularity']\n",
    "fav_pop = popularity_of_fav_song.astype(float)\n",
    "upper_range = fav_pop + 5\n",
    "lower_range = fav_pop - 5\n",
    "df_selected_songs = df_songs[(df_songs['popularity'] <= upper_range.values[0]) & (df_songs['popularity'] >= lower_range.values[0])]\n",
    "df_selected_songs = df_selected_songs.sort_values(by=['popularity'], ascending=False)\n",
    "print(df_selected_songs)"
   ]
  },
  {
   "cell_type": "code",
   "execution_count": 8,
   "id": "8ca34e5a",
   "metadata": {},
   "outputs": [
    {
     "name": "stdout",
     "output_type": "stream",
     "text": [
      "Recommendation based on the song  Past Life (with Selena Gomez) :\n",
      "1 -> Closer\n",
      "2 -> Some Say - Felix Jaehn Remix\n",
      "3 -> La Santa\n",
      "4 -> El Mismo Aire - con Pablo Alborán\n",
      "5 -> Lovefool\n",
      "6 -> Supalonely\n",
      "7 -> #NAME?\n",
      "8 -> Hate The Other Side (with Marshmello & The Kid Laroi)\n",
      "9 -> OK Not To Be OK\n",
      "10 -> Falling Down - Bonus Track\n"
     ]
    }
   ],
   "source": [
    "songs = df_selected_songs['name'].tolist()\n",
    "print(\"Recommendation based on the song \", fav_song,':')\n",
    "i=0\n",
    "for song in songs:\n",
    "  print(i+1,'->',song)\n",
    "  i=i+1\n",
    "  if i==10:\n",
    "    break\n"
   ]
  },
  {
   "cell_type": "markdown",
   "id": "745dc793",
   "metadata": {},
   "source": [
    "Recommendation based on most popular tracks or artists (Top 10)"
   ]
  },
  {
   "cell_type": "code",
   "execution_count": 9,
   "id": "9a7d2e53",
   "metadata": {},
   "outputs": [
    {
     "name": "stdout",
     "output_type": "stream",
     "text": [
      "Most popular/trending artists of the year: \n",
      "1 -> Lele Pons\n",
      "2 -> Jerry Di\n",
      "3 -> Surf Mesa\n",
      "4 -> Emilee\n",
      "5 -> A7S\n",
      "6 -> Nomcebo Zikode\n",
      "7 -> Master KG\n",
      "8 -> Osquel\n",
      "9 -> THE SCOTTS\n",
      "10 -> Octavian\n",
      "\n",
      "\n",
      "Most popular/trending songs of the year:\n",
      "1 -> Dakiti\n",
      "2 -> Mood (feat. iann dior)\n",
      "3 -> WAP (feat. Megan Thee Stallion)\n",
      "4 -> Lonely (with benny blanco)\n",
      "5 -> Holy (feat. Chance The Rapper)\n",
      "6 -> Relación - Remix\n",
      "7 -> Head & Heart (feat. MNEK)\n",
      "8 -> Laugh Now Cry Later (feat. Lil Durk)\n",
      "9 -> Put Your Records On\n",
      "10 -> Breaking Me\n"
     ]
    }
   ],
   "source": [
    "df_artists = df_artists.sort_values(by=['popularity'], ascending=False)\n",
    "df_songs = df_songs.sort_values(by=['popularity'], ascending=False)\n",
    "\n",
    "artists = df_artists['artists'].tolist()\n",
    "songs = df_songs['name'].tolist()\n",
    "\n",
    "print(\"Most popular/trending artists of the year: \")\n",
    "i=0\n",
    "for artist in artists:\n",
    "  print(i+1,'->',artist)\n",
    "  i=i+1\n",
    "  if i==10:\n",
    "    break\n",
    "\n",
    "print(\"\\n\\nMost popular/trending songs of the year:\")\n",
    "i=0\n",
    "for song in songs:\n",
    "  print(i+1,'->',song)\n",
    "  i=i+1\n",
    "  if i==10:\n",
    "    break"
   ]
  },
  {
   "cell_type": "code",
   "execution_count": null,
   "id": "bbebf1fd",
   "metadata": {},
   "outputs": [],
   "source": []
  }
 ],
 "metadata": {
  "kernelspec": {
   "display_name": "Python 3 (ipykernel)",
   "language": "python",
   "name": "python3"
  },
  "language_info": {
   "codemirror_mode": {
    "name": "ipython",
    "version": 3
   },
   "file_extension": ".py",
   "mimetype": "text/x-python",
   "name": "python",
   "nbconvert_exporter": "python",
   "pygments_lexer": "ipython3",
   "version": "3.9.13"
  }
 },
 "nbformat": 4,
 "nbformat_minor": 5
}
