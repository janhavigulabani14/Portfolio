{
 "cells": [
  {
   "cell_type": "markdown",
   "id": "c382b3b6",
   "metadata": {},
   "source": [
    "Implementing content based recommendation system using cosine similarity for\n",
    "1. Recommendation for artists.\n",
    "2. Recommendation for songs."
   ]
  },
  {
   "cell_type": "code",
   "execution_count": 25,
   "id": "c2c16cb8",
   "metadata": {},
   "outputs": [],
   "source": [
    "import pandas as pd\n",
    "import numpy as np\n",
    "from sklearn.feature_extraction.text import CountVectorizer\n",
    "from sklearn.metrics.pairwise import cosine_similarity\n",
    "\n",
    "pd.set_option('display.max_rows', 50)\n",
    "pd.set_option('display.max_columns', 500)\n",
    "pd.set_option('display.width', 1000)\n",
    "\n",
    "df = pd.read_csv(\"artists.csv\")\n",
    "df_song = pd.read_csv('songs.csv')"
   ]
  },
  {
   "cell_type": "markdown",
   "id": "27b96f39",
   "metadata": {},
   "source": [
    "Recommendation for artists\n",
    "1. Gathered all the necessary features from the csv file.\n",
    "2. Fetched and combined the selected features for all the rows in the dataframe.\n",
    "3. Performed countvectorization for the complete dataframe\n",
    "4. Fetched a cosine similarity for the matrix.\n",
    "5. For each artist, a list of tuples are created with values such as (artist_index, similarity value).\n",
    "6. The list is then sorted based on the user_choice for the artist index.\n",
    "7. Top n number of artists which are similar, are displayed."
   ]
  },
  {
   "cell_type": "code",
   "execution_count": 26,
   "id": "30a38c81",
   "metadata": {},
   "outputs": [
    {
     "name": "stdout",
     "output_type": "stream",
     "text": [
      "Top 10 similar artists/singers to Justin Timberlake are:\n",
      "\n",
      "1 -> 9tails\n",
      "2 -> Devour\n",
      "3 -> Dyo\n",
      "4 -> Eric Reprid\n",
      "5 -> Jakkybo\n",
      "6 -> Magic System\n",
      "7 -> Methrone\n",
      "8 -> NEIKED\n",
      "9 -> Nick Swardson\n",
      "10 -> Octavian\n"
     ]
    }
   ],
   "source": [
    "features = ['mode','duration_ms','instrumentalness','acousticness','danceability','energy','liveness','loudness','speechiness', 'tempo','valence']\n",
    "\n",
    "def combine_all_features(row):\n",
    "    return str(row['mode']) +\" \"+ str(row['duration_ms']) +\" \"+ str(row['instrumentalness']) +\" \"+ str(row['acousticness']) +\" \"+ str(row['danceability'])+\" \"+ str(row[\"energy\"])+\" \"+str(row[\"liveness\"])+\" \"+str(row[\"loudness\"])+\" \"+str(row[\"speechiness\"])+\" \"+str(row[\"tempo\"])+\" \"+str(row[\"valence\"])\n",
    "\n",
    "df['combined_features'] = df.apply(combine_all_features,axis=1)\n",
    "\n",
    "\n",
    "cv = CountVectorizer()\n",
    "count_matrix = cv.fit_transform(df['combined_features'])\n",
    "cosine_sim = cosine_similarity(count_matrix)\n",
    "\n",
    "\n",
    "def fetch_artist_from_index(index):\n",
    "    return df[df.index == index][\"artists\"].values[0]\n",
    "\n",
    "def fetch_index_from_artist(artists):\n",
    "    return df[df.artists == artists][\"index\"].values[0]\n",
    "\n",
    "user_choice_for_singer = \"Justin Timberlake\"\n",
    "artist_index = fetch_index_from_artist(user_choice_for_singer)\n",
    "\n",
    "similar_artists =  list(enumerate(cosine_sim[artist_index]))\n",
    "\n",
    "sim_artist_sort = sorted(similar_artists,key=lambda x:x[1],reverse=True)[1:]\n",
    "\n",
    "i=0\n",
    "print(\"Top 10 similar artists/singers to \"+ user_choice_for_singer +\" are:\\n\")\n",
    "for element in sim_artist_sort:\n",
    "    print(i+1,'->',fetch_artist_from_index(element[0]))\n",
    "    i=i+1\n",
    "    if i>=10:\n",
    "        break\n"
   ]
  },
  {
   "cell_type": "markdown",
   "id": "73757517",
   "metadata": {},
   "source": [
    "Recommendation for songs by applying the same technique"
   ]
  },
  {
   "cell_type": "markdown",
   "id": "7a95653a",
   "metadata": {},
   "source": [
    "Removed some unnecessary list values for the artists and stored it in a seperate csv file."
   ]
  },
  {
   "cell_type": "code",
   "execution_count": 27,
   "id": "51d04ce6",
   "metadata": {},
   "outputs": [
    {
     "name": "stdout",
     "output_type": "stream",
     "text": [
      "       index  valence  year  acousticness                                       artists  danceability  duration_ms  energy  explicit  instrumentalness  liveness  loudness  mode                             name  popularity  speechiness    tempo\n",
      "0          0    0.165  1921       0.96700                                  Frank Parker         0.275       210000   0.309         0          0.000028    0.3810    -9.316     1                        Danny Boy           3       0.0354  100.109\n",
      "1          1    0.493  1921       0.99000                                       Georgel         0.315       190800   0.363         0          0.000000    0.2920   -12.562     0                        La Vipère           0       0.0546  174.532\n",
      "2          2    0.493  1921       0.01750                                    Zay Gatsby         0.527       205072   0.691         1          0.384000    0.3580    -7.298     1                   Power Is Power           0       0.0326  159.935\n",
      "3          3    0.664  1921       0.99600               Hector Berlioz Arturo Toscanini         0.541       250747   0.283         0          0.898000    0.3930   -14.808     1                    Rákóczy March           0       0.0477  108.986\n",
      "4          4    0.240  1921       0.99400                John McCormack Edwin Schneider         0.400       187333   0.155         0          0.000043    0.1030   -13.976     1                   Mother Machree           0       0.0873  170.251\n",
      "...      ...      ...   ...           ...                                           ...           ...          ...     ...       ...               ...       ...       ...   ...                              ...         ...          ...      ...\n",
      "57947  57947    0.608  2020       0.08460  Anuel AA Daddy Yankee KAROL G Ozuna J Balvin         0.786       301714   0.808         0          0.000289    0.0822    -3.702     1                            China          72       0.0881  105.029\n",
      "57948  57948    0.734  2020       0.20600                                      Ashnikko         0.717       150654   0.753         0          0.000000    0.1010    -6.020     1      Halloweenie III: Seven Days          68       0.0605  137.936\n",
      "57949  57949    0.637  2020       0.10100                                       MAMAMOO         0.634       211280   0.858         0          0.000009    0.2580    -2.226     0                              AYA          76       0.0809   91.688\n",
      "57950  57950    0.195  2020       0.00998                                        Eminem         0.671       337147   0.623         1          0.000008    0.6430    -7.161     1                         Darkness          70       0.3080   75.055\n",
      "57951  57951    0.642  2020       0.13200                                KEVVO J Balvin         0.856       189507   0.721         1          0.004710    0.1820    -4.928     1  Billetes Azules (with J Balvin)          74       0.1080   94.991\n",
      "\n",
      "[57952 rows x 17 columns]\n"
     ]
    }
   ],
   "source": [
    "import re\n",
    "for index in range(len(df_song)):\n",
    "    artists_list = df_song.iloc[index]['artists']\n",
    "    list1 = re.findall('[\\w ]+', artists_list)\n",
    "    variables = []\n",
    "    for val in list1:\n",
    "        if re.search(\"^\\s*$\", val):\n",
    "            pass\n",
    "        else:\n",
    "            variables.append(val)\n",
    "    answer = ' '.join(variables)\n",
    "    df_song.loc[index,'artists'] = answer\n",
    "print(df_song)"
   ]
  },
  {
   "cell_type": "markdown",
   "id": "7a4a2fa9",
   "metadata": {},
   "source": [
    "Since the data is too huge to create a matrix for cosine similarity, I am removing some rows from the dataframe randomly."
   ]
  },
  {
   "cell_type": "code",
   "execution_count": 28,
   "id": "c167fe9e",
   "metadata": {},
   "outputs": [
    {
     "name": "stdout",
     "output_type": "stream",
     "text": [
      "       index  valence  year  acousticness                                            artists  danceability  duration_ms  energy  explicit  instrumentalness  liveness  loudness  mode                                name  popularity  speechiness    tempo\n",
      "0          2    0.493  1921       0.01750                                         Zay Gatsby         0.527       205072   0.691         1          0.384000    0.3580    -7.298     1                      Power Is Power           0       0.0326  159.935\n",
      "1          3    0.664  1921       0.99600                    Hector Berlioz Arturo Toscanini         0.541       250747   0.283         0          0.898000    0.3930   -14.808     1                       Rákóczy March           0       0.0477  108.986\n",
      "2          4    0.240  1921       0.99400                     John McCormack Edwin Schneider         0.400       187333   0.155         0          0.000043    0.1030   -13.976     1                      Mother Machree           0       0.0873  170.251\n",
      "3          6    0.791  1921       0.99100              Ermanno Wolf Ferrari Arturo Toscanini         0.465       151187   0.284         0          0.022500    0.1460   -17.776     1                            Overture           0       0.0591   98.336\n",
      "4         10    0.234  1921       0.99200               Ildebrando Pizzetti Arturo Toscanini         0.251       207800   0.275         0          0.785000    0.2940   -17.295     0  II. Le quai du porte de Famagouste           0       0.0371   94.264\n",
      "...      ...      ...   ...           ...                                                ...           ...          ...     ...       ...               ...       ...       ...   ...                                 ...         ...          ...      ...\n",
      "37947  57942    0.907  2020       0.00952  DJ Scheme Cordae Ski Mask The Slump God Take A...         0.917       228333   0.569         1          0.000000    0.0774   -10.456     1         Soda (feat. Take A Daytrip)          66       0.2790  144.014\n",
      "37948  57947    0.608  2020       0.08460       Anuel AA Daddy Yankee KAROL G Ozuna J Balvin         0.786       301714   0.808         0          0.000289    0.0822    -3.702     1                               China          72       0.0881  105.029\n",
      "37949  57948    0.734  2020       0.20600                                           Ashnikko         0.717       150654   0.753         0          0.000000    0.1010    -6.020     1         Halloweenie III: Seven Days          68       0.0605  137.936\n",
      "37950  57949    0.637  2020       0.10100                                            MAMAMOO         0.634       211280   0.858         0          0.000009    0.2580    -2.226     0                                 AYA          76       0.0809   91.688\n",
      "37951  57950    0.195  2020       0.00998                                             Eminem         0.671       337147   0.623         1          0.000008    0.6430    -7.161     1                            Darkness          70       0.3080   75.055\n",
      "\n",
      "[37952 rows x 17 columns]\n"
     ]
    }
   ],
   "source": [
    "import numpy as np\n",
    "np.random.seed(10)\n",
    "\n",
    "remove_n = 20000\n",
    "drop_indices = np.random.choice(df_song.index, remove_n, replace=False)\n",
    "df_song = df_song.drop(drop_indices)\n",
    "\n",
    "df_song.index = range(len(df_song.index))\n",
    "\n",
    "# df_song.to_csv('updated_songs2.csv')\n",
    "print(df_song)"
   ]
  },
  {
   "cell_type": "code",
   "execution_count": 29,
   "id": "c7bd68ff",
   "metadata": {},
   "outputs": [
    {
     "name": "stdout",
     "output_type": "stream",
     "text": [
      "       index  valence  year  acousticness                                            artists  danceability  duration_ms  energy  explicit  instrumentalness  liveness  loudness  mode                                name  popularity  speechiness    tempo\n",
      "0          0    0.493  1921       0.01750                                         Zay Gatsby         0.527       205072   0.691         1          0.384000    0.3580    -7.298     1                      Power Is Power           0       0.0326  159.935\n",
      "1          1    0.664  1921       0.99600                    Hector Berlioz Arturo Toscanini         0.541       250747   0.283         0          0.898000    0.3930   -14.808     1                       Rákóczy March           0       0.0477  108.986\n",
      "2          2    0.240  1921       0.99400                     John McCormack Edwin Schneider         0.400       187333   0.155         0          0.000043    0.1030   -13.976     1                      Mother Machree           0       0.0873  170.251\n",
      "3          3    0.791  1921       0.99100              Ermanno Wolf Ferrari Arturo Toscanini         0.465       151187   0.284         0          0.022500    0.1460   -17.776     1                            Overture           0       0.0591   98.336\n",
      "4          4    0.234  1921       0.99200               Ildebrando Pizzetti Arturo Toscanini         0.251       207800   0.275         0          0.785000    0.2940   -17.295     0  II. Le quai du porte de Famagouste           0       0.0371   94.264\n",
      "...      ...      ...   ...           ...                                                ...           ...          ...     ...       ...               ...       ...       ...   ...                                 ...         ...          ...      ...\n",
      "37947  37947    0.907  2020       0.00952  DJ Scheme Cordae Ski Mask The Slump God Take A...         0.917       228333   0.569         1          0.000000    0.0774   -10.456     1         Soda (feat. Take A Daytrip)          66       0.2790  144.014\n",
      "37948  37948    0.608  2020       0.08460       Anuel AA Daddy Yankee KAROL G Ozuna J Balvin         0.786       301714   0.808         0          0.000289    0.0822    -3.702     1                               China          72       0.0881  105.029\n",
      "37949  37949    0.734  2020       0.20600                                           Ashnikko         0.717       150654   0.753         0          0.000000    0.1010    -6.020     1         Halloweenie III: Seven Days          68       0.0605  137.936\n",
      "37950  37950    0.637  2020       0.10100                                            MAMAMOO         0.634       211280   0.858         0          0.000009    0.2580    -2.226     0                                 AYA          76       0.0809   91.688\n",
      "37951  37951    0.195  2020       0.00998                                             Eminem         0.671       337147   0.623         1          0.000008    0.6430    -7.161     1                            Darkness          70       0.3080   75.055\n",
      "\n",
      "[37952 rows x 17 columns]\n"
     ]
    }
   ],
   "source": [
    "df_song = pd.read_csv('updated_songs2.csv')\n",
    "print(df_song)\n"
   ]
  },
  {
   "cell_type": "markdown",
   "id": "9c01ed74",
   "metadata": {},
   "source": [
    "Implementing the same type of method, just working differently with different other features."
   ]
  },
  {
   "cell_type": "code",
   "execution_count": 30,
   "id": "c64ba2d7",
   "metadata": {},
   "outputs": [
    {
     "name": "stdout",
     "output_type": "stream",
     "text": [
      "Top 10 similar songs to Zor Laga Le are:\n",
      "\n",
      "1 -> Crave You - Adventure Club Remix\n",
      "2 -> Why Do You Love Me\n",
      "3 -> Too Young\n",
      "4 -> Te Diré\n",
      "5 -> Walkin' The Floor Over You\n",
      "6 -> Carry On (from the Original Motion Picture \"POKÉMON Detective Pikachu\")\n",
      "7 -> Zor Laga Le\n",
      "8 -> Turn Around\n",
      "9 -> Paint It Black Medley: Black On Black In Black / Paint It Black / Laurel & Hardy / Pintello Negro / P.C.3 / Blackbird\n",
      "10 -> Worlds to Run\n"
     ]
    }
   ],
   "source": [
    "features = ['explicit','mode','instrumentalness','acousticness','danceability','energy',\n",
    "            'liveness','loudness','speechiness', 'tempo','valence']\n",
    "\n",
    "def combine_features(row):\n",
    "    return str(row['explicit']) +\" \"+ str(row['mode']) +\" \"+ str(row['instrumentalness'])\n",
    "    +\" \"+ str(row['acousticness']) +\" \"+ str(row['danceability'])+\" \"+ str(row[\"energy\"])+\" \"+str(row[\"liveness\"])\n",
    "    +\" \"+str(row[\"loudness\"])+\" \"+str(row[\"speechiness\"])+\" \"+str(row[\"tempo\"])+\" \"+str(row[\"valence\"])\n",
    "\n",
    "\n",
    "df_song['combined_features'] = df_song.apply(combine_features,axis=1)\n",
    "\n",
    "cv = CountVectorizer()\n",
    "count_matrix = cv.fit_transform(df_song['combined_features'])\n",
    "cosine_sim = cosine_similarity(count_matrix)\n",
    "\n",
    "def fetch_song_from_index(index):\n",
    "    return df_song[df_song.index == index][\"name\"].values[0]\n",
    "\n",
    "def fetch_index_from_song(name):\n",
    "    return df_song[df_song.name == name][\"index\"].values[0]\n",
    "\n",
    "user_choice_song = \"Zor Laga Le\"\n",
    "song_index = fetch_index_from_song(user_choice_song)\n",
    "\n",
    "similar_songs =  list(enumerate(cosine_sim[song_index]))\n",
    "\n",
    "similar_songs_sorted = sorted(similar_songs,key=lambda x:x[1],reverse=True)[1:]\n",
    "\n",
    "i=0\n",
    "print(\"Top 10 similar songs to \"+ user_choice_song +\" are:\\n\")\n",
    "for element in similar_songs_sorted:\n",
    "    print(i+1,'->',fetch_song_from_index(element[0]))\n",
    "    i=i+1\n",
    "    if i>=10:\n",
    "        break"
   ]
  },
  {
   "cell_type": "code",
   "execution_count": null,
   "id": "49766d71",
   "metadata": {},
   "outputs": [],
   "source": []
  }
 ],
 "metadata": {
  "kernelspec": {
   "display_name": "Python 3 (ipykernel)",
   "language": "python",
   "name": "python3"
  },
  "language_info": {
   "codemirror_mode": {
    "name": "ipython",
    "version": 3
   },
   "file_extension": ".py",
   "mimetype": "text/x-python",
   "name": "python",
   "nbconvert_exporter": "python",
   "pygments_lexer": "ipython3",
   "version": "3.9.13"
  }
 },
 "nbformat": 4,
 "nbformat_minor": 5
}
