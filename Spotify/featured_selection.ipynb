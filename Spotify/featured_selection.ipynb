{
 "cells": [
  {
   "cell_type": "code",
   "execution_count": 12,
   "id": "de121de9",
   "metadata": {},
   "outputs": [],
   "source": [
    "import pandas as pd\n",
    "pd.set_option('display.max_rows', 50)\n",
    "pd.set_option('display.max_columns', 500)\n",
    "pd.set_option('display.width', 1000)"
   ]
  },
  {
   "cell_type": "code",
   "execution_count": 13,
   "id": "54445558",
   "metadata": {},
   "outputs": [],
   "source": [
    "df_song = pd.read_csv('clean_by_main_data.csv')\n",
    "df_artist = pd.read_csv('clean_by_artists.csv')\n",
    "df_genres = pd.read_csv('clean_by_genres.csv')\n",
    "df_year = pd.read_csv('clean_by_year.csv')\n",
    "df_extend_genre = pd.read_csv('clean_by_extended_genre.csv')"
   ]
  },
  {
   "cell_type": "markdown",
   "id": "299673b9",
   "metadata": {},
   "source": [
    "Read each csv file and select the best context\n"
   ]
  },
  {
   "cell_type": "code",
   "execution_count": 14,
   "id": "b7846480",
   "metadata": {},
   "outputs": [
    {
     "name": "stdout",
     "output_type": "stream",
     "text": [
      "       Unnamed: 0  valence  year  acousticness                                            artists  danceability  duration_ms  energy  explicit  instrumentalness  liveness  loudness  mode                             name  popularity  speechiness    tempo\n",
      "0               3    0.165  1921       0.96700                                   ['Frank Parker']         0.275       210000   0.309         0          0.000028    0.3810    -9.316     1                        Danny Boy           3       0.0354  100.109\n",
      "1              12    0.493  1921       0.99000                                        ['Georgel']         0.315       190800   0.363         0          0.000000    0.2920   -12.562     0                        La Vipère           0       0.0546  174.532\n",
      "2              14    0.493  1921       0.01750                                     ['Zay Gatsby']         0.527       205072   0.691         1          0.384000    0.3580    -7.298     1                   Power Is Power           0       0.0326  159.935\n",
      "3              17    0.664  1921       0.99600             ['Hector Berlioz', 'Arturo Toscanini']         0.541       250747   0.283         0          0.898000    0.3930   -14.808     1                    Rákóczy March           0       0.0477  108.986\n",
      "4              21    0.240  1921       0.99400              ['John McCormack', 'Edwin Schneider']         0.400       187333   0.155         0          0.000043    0.1030   -13.976     1                   Mother Machree           0       0.0873  170.251\n",
      "...           ...      ...   ...           ...                                                ...           ...          ...     ...       ...               ...       ...       ...   ...                              ...         ...          ...      ...\n",
      "57947      170648    0.608  2020       0.08460  ['Anuel AA', 'Daddy Yankee', 'KAROL G', 'Ozuna...         0.786       301714   0.808         0          0.000289    0.0822    -3.702     1                            China          72       0.0881  105.029\n",
      "57948      170649    0.734  2020       0.20600                                       ['Ashnikko']         0.717       150654   0.753         0          0.000000    0.1010    -6.020     1      Halloweenie III: Seven Days          68       0.0605  137.936\n",
      "57949      170650    0.637  2020       0.10100                                        ['MAMAMOO']         0.634       211280   0.858         0          0.000009    0.2580    -2.226     0                              AYA          76       0.0809   91.688\n",
      "57950      170651    0.195  2020       0.00998                                         ['Eminem']         0.671       337147   0.623         1          0.000008    0.6430    -7.161     1                         Darkness          70       0.3080   75.055\n",
      "57951      170652    0.642  2020       0.13200                              ['KEVVO', 'J Balvin']         0.856       189507   0.721         1          0.004710    0.1820    -4.928     1  Billetes Azules (with J Balvin)          74       0.1080   94.991\n",
      "\n",
      "[57952 rows x 17 columns]\n"
     ]
    }
   ],
   "source": [
    "df_song.drop(['release_date', 'key','id'], axis=1, inplace=True)\n",
    "print(df_song)"
   ]
  },
  {
   "cell_type": "code",
   "execution_count": 15,
   "id": "1f3ea993",
   "metadata": {},
   "outputs": [
    {
     "name": "stdout",
     "output_type": "stream",
     "text": [
      "       Unnamed: 0  mode  count  acousticness                    artists  danceability  duration_ms    energy  instrumentalness  liveness   loudness  speechiness       tempo   valence  popularity\n",
      "0               0     1    122      0.173145        \"Weird Al\" Yankovic      0.662787  218948.1967  0.695393      4.980000e-05  0.161102  -9.768705     0.084536  133.031180  0.751344   34.229508\n",
      "1               1     1      2      0.239000                $atori Zoom      0.883000  141519.0000  0.625000      0.000000e+00  0.076500  -4.098000     0.245000  126.677000  0.871000   67.000000\n",
      "2               2     1    125      0.141485                $uicideBoy$      0.749344  146386.3920  0.635552      4.567510e-02  0.202253  -6.631304     0.156108  115.022024  0.287286   61.800000\n",
      "3               3     1      9      0.553889  'Legally Blonde' Ensemble      0.648444  304211.8889  0.441111      2.540000e-05  0.214667 -11.459778     0.495111  114.808444  0.524778   48.666667\n",
      "4               4     1     16      0.105556               'Til Tuesday      0.557125  255213.5000  0.612250      2.330025e-02  0.127587  -9.638125     0.032150  103.080250  0.532625   34.625000\n",
      "...           ...   ...    ...           ...                        ...           ...          ...       ...               ...       ...        ...          ...         ...       ...         ...\n",
      "10492       10492     1     13      0.155923                  engo Flow      0.749154  358203.1538  0.717000      3.530000e-07  0.260692  -5.635154     0.242454  113.836539  0.575462   66.076923\n",
      "10493       10493     1      8      0.973750              lafur Arnalds      0.350750  215323.0000  0.128075      9.390000e-01  0.099000 -23.222750     0.036925  118.161750  0.108450   58.750000\n",
      "10494       10494     1     40      0.420430                scar Medina      0.606500  277211.9500  0.476150      7.510000e-07  0.189870 -10.224300     0.028560  111.161350  0.475550   37.800000\n",
      "10495       10495     0      2      0.120000              lhan Mimarolu      0.549000  562960.0000  0.527000      3.020000e-05  0.395000 -10.149000     0.154000  133.726000  0.722000   32.000000\n",
      "10496       10496     1      4      0.224100                eljko Bebek      0.569000  238586.5000  0.818500      3.870000e-06  0.095500  -6.640500     0.042500   95.920000  0.564000   43.500000\n",
      "\n",
      "[10497 rows x 15 columns]\n"
     ]
    }
   ],
   "source": [
    "df_artist.drop(['key'], axis=1, inplace=True)\n",
    "print(df_artist)\n"
   ]
  },
  {
   "cell_type": "code",
   "execution_count": 16,
   "id": "b818f4da",
   "metadata": {},
   "outputs": [
    {
     "name": "stdout",
     "output_type": "stream",
     "text": [
      "    Unnamed: 0  mode  year  acousticness  danceability  duration_ms    energy  instrumentalness  liveness   loudness  speechiness       tempo   valence  popularity\n",
      "0            0     1  1921      0.886896      0.418597  260537.1667  0.231815          0.344878  0.205710 -17.048667     0.073662  101.531493  0.379327    0.653333\n",
      "1            1     1  1922      0.938592      0.482042  165469.7465  0.237815          0.434195  0.240720 -19.275282     0.116655  100.884521  0.535549    0.140845\n",
      "2            2     1  1923      0.957247      0.577341  177942.3622  0.262406          0.371733  0.227462 -14.129211     0.093949  114.010730  0.625492    5.389189\n",
      "3            3     1  1924      0.940200      0.549894  191046.7076  0.344347          0.581701  0.235219 -14.231343     0.092089  120.689572  0.663725    0.661017\n",
      "4            4     1  1925      0.962607      0.573863  184986.9245  0.278594          0.418297  0.237668 -14.146414     0.111918  115.521921  0.621929    2.604317\n",
      "..         ...   ...   ...           ...           ...          ...       ...               ...       ...        ...          ...         ...       ...         ...\n",
      "95          95     1  2016      0.284171      0.600202  221396.5103  0.592855          0.093984  0.181170  -8.061056     0.104313  118.652630  0.431532   59.647190\n",
      "96          96     1  2017      0.286099      0.612217  211115.6968  0.590421          0.097091  0.191713  -8.312630     0.110536  117.202740  0.416476   63.263554\n",
      "97          97     1  2018      0.267633      0.663500  206001.0071  0.602435          0.054217  0.176326  -7.168785     0.127176  121.922308  0.447921   63.296243\n",
      "98          98     1  2019      0.278299      0.644814  201024.7881  0.593224          0.077640  0.172616  -7.722192     0.121043  120.235644  0.458818   65.256542\n",
      "99          99     1  2020      0.219931      0.692904  193728.3975  0.631232          0.016376  0.178535  -6.595067     0.141384  124.283129  0.501048   64.301970\n",
      "\n",
      "[100 rows x 14 columns]\n"
     ]
    }
   ],
   "source": [
    "df_year.drop([ 'key'], axis=1, inplace=True)\n",
    "print(df_year)\n"
   ]
  },
  {
   "cell_type": "code",
   "execution_count": 17,
   "id": "e4093b81",
   "metadata": {},
   "outputs": [
    {
     "name": "stdout",
     "output_type": "stream",
     "text": [
      "       Unnamed: 0                                             genres                           artists  acousticness  danceability    duration_ms    energy  instrumentalness  liveness   loudness  speechiness       tempo   valence  popularity  mode  count\n",
      "0               0                                     ['show tunes']  \"Cats\" 1981 Original London Cast      0.590111      0.467222  250318.555556  0.394003          0.011400  0.290833 -14.448000     0.210389  117.518111  0.389500   38.333333     1      9\n",
      "1               8                 ['comedy rock', 'comic', 'parody']               \"Weird Al\" Yankovic      0.173145      0.662787  218948.196721  0.695393          0.000050  0.161102  -9.768705     0.084536  133.031180  0.751344   34.229508     1    122\n",
      "2               9  ['emo rap', 'florida rap', 'sad rap', 'undergr...                              $NOT      0.544467      0.789800  137910.466667  0.532933          0.023063  0.180300  -9.149267     0.293687  112.344800  0.480700   67.533333     1     15\n",
      "3              10                          ['dark trap', 'meme rap']                       $atori Zoom      0.239000      0.883000  141519.000000  0.625000          0.000000  0.076500  -4.098000     0.245000  126.677000  0.871000   67.000000     1      2\n",
      "4              12  ['asian american hip hop', 'cali rap', 'west c...                      $tupid Young      0.148100      0.854000  190572.000000  0.683000          0.000002  0.188500  -6.997000     0.221000  100.724500  0.625500   57.500000     1      2\n",
      "...           ...                                                ...                               ...           ...           ...            ...       ...               ...       ...        ...          ...         ...       ...         ...   ...    ...\n",
      "18757       28322       ['musique concrete', 'turkish experimental']                     lhan Mimarolu      0.120000      0.549000  562960.000000  0.527000          0.000030  0.395000 -10.149000     0.154000  133.726000  0.722000   32.000000     0      2\n",
      "18758       28324         ['narodna muzika', 'sevdah', 'turbo folk']                         aban auli      0.304000      0.540000  186507.000000  0.408000          0.000001  0.554000 -13.361000     0.032200   94.008000  0.709000   45.000000     0      2\n",
      "18759       28325  ['balkan brass', 'croatian pop', 'croatian roc...                       eljko Bebek      0.224100      0.569000  238586.500000  0.818500          0.000004  0.095500  -6.640500     0.042500   95.920000  0.564000   43.500000     1      4\n",
      "18760       28540                                   ['russian folk']                              . .       0.969000      0.357000  212693.000000  0.390000          0.000012  0.088400 -12.126000     0.036400  146.648000  0.229000   41.000000     0      2\n",
      "18761       28547                                   ['russian jazz']                                        0.636733      0.599917  119911.500000  0.304917          0.000225  0.158767 -15.741000     0.114125  115.809667  0.758000   35.833333     0     12\n",
      "\n",
      "[18762 rows x 16 columns]\n"
     ]
    }
   ],
   "source": [
    "df_extend_genre.drop(['key'], axis=1, inplace=True)\n",
    "print(df_extend_genre)"
   ]
  },
  {
   "cell_type": "code",
   "execution_count": 18,
   "id": "18d08cd4",
   "metadata": {},
   "outputs": [
    {
     "name": "stdout",
     "output_type": "stream",
     "text": [
      "      Unnamed: 0  mode                  genres  acousticness  danceability   duration_ms    energy  instrumentalness  liveness   loudness  speechiness       tempo   valence  popularity\n",
      "0              0     1  21st century classical      0.979333      0.162883  1.602977e+05  0.071317          0.606834  0.361600 -31.514333     0.040567   75.336500  0.103783   27.833333\n",
      "1              1     1                   432hz      0.494780      0.299333  1.048887e+06  0.450678          0.477762  0.131000 -16.854000     0.076817  120.285667  0.221750   52.500000\n",
      "2              2     1                   8-bit      0.762000      0.712000  1.151770e+05  0.818000          0.876000  0.126000  -9.180000     0.047000  133.444000  0.975000   48.000000\n",
      "3              4     1              a cappella      0.676557      0.538961  1.906285e+05  0.316434          0.003003  0.172254 -12.479387     0.082851  112.110362  0.448249   45.820071\n",
      "4              5     1                abstract      0.459210      0.516167  3.431965e+05  0.442417          0.849667  0.118067 -15.472083     0.046517  127.885750  0.307325   43.500000\n",
      "...          ...   ...                     ...           ...           ...           ...       ...               ...       ...        ...          ...         ...       ...         ...\n",
      "2967        2968     1                    zolo      0.222625      0.547082  2.580991e+05  0.610240          0.143872  0.204206 -11.295878     0.061088  125.494919  0.596155   33.778943\n",
      "2968        2969     0                 zouglou      0.161000      0.863000  2.063200e+05  0.909000          0.000000  0.108000  -5.985000     0.081300  119.038000  0.845000   58.000000\n",
      "2969        2970     1                    zouk      0.263261      0.748889  3.060728e+05  0.622444          0.257227  0.089678 -10.289222     0.038778  101.965222  0.824111   46.666667\n",
      "2970        2971     0            zurich indie      0.993000      0.705667  1.984173e+05  0.172667          0.468633  0.179667 -11.453333     0.348667   91.278000  0.739000    0.000000\n",
      "2971        2972     1                  zydeco      0.421038      0.629409  1.716717e+05  0.609369          0.019248  0.255877  -9.854825     0.050491  126.366087  0.808544   30.261905\n",
      "\n",
      "[2972 rows x 14 columns]\n"
     ]
    }
   ],
   "source": [
    "df_genres.drop(['key'], axis=1, inplace=True)\n",
    "print(df_genres)\n"
   ]
  },
  {
   "cell_type": "code",
   "execution_count": 19,
   "id": "2df4b775",
   "metadata": {},
   "outputs": [],
   "source": [
    "df_song.to_csv('fs_by_song.csv')\n",
    "df_artist.to_csv('fs_by_artists.csv')\n",
    "df_genres.to_csv('fs_by_genres.csv')\n",
    "df_year.to_csv('fs_by_year.csv')\n",
    "df_extend_genre.to_csv('fs_by_extended_genre.csv')"
   ]
  },
  {
   "cell_type": "code",
   "execution_count": null,
   "id": "bd562465",
   "metadata": {},
   "outputs": [],
   "source": []
  }
 ],
 "metadata": {
  "kernelspec": {
   "display_name": "Python 3 (ipykernel)",
   "language": "python",
   "name": "python3"
  },
  "language_info": {
   "codemirror_mode": {
    "name": "ipython",
    "version": 3
   },
   "file_extension": ".py",
   "mimetype": "text/x-python",
   "name": "python",
   "nbconvert_exporter": "python",
   "pygments_lexer": "ipython3",
   "version": "3.9.13"
  }
 },
 "nbformat": 4,
 "nbformat_minor": 5
}
